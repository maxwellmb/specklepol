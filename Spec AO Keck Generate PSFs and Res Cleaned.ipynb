{
 "cells": [
  {
   "cell_type": "code",
   "execution_count": 1,
   "id": "cbc18b14",
   "metadata": {},
   "outputs": [
    {
     "data": {
      "image/png": "[encoded data removed]",
      "text/plain": [
       "<Figure size 432x288 with 1 Axes>"
      ]
     },
     "metadata": {
      "needs_background": "light"
     },
     "output_type": "display_data"
    }
   ],
   "source": [
    "import matplotlib.pyplot as plt\n",
    "import matplotlib.colors as mpl_colors\n",
    "from matplotlib.animation import FFMpegWriter\n",
    "import numpy as np\n",
    "import viper_detector\n",
    "import time\n",
    "from utils import *\n",
    "import copy\n",
    "import hcipy\n",
    "import os.path\n",
    "import csv\n",
    "from astropy.io import fits\n",
    "from processing import *\n",
    "import time\n",
    "from Keck_aperture import *\n",
    "import wfs"
   ]
  },
  {
   "cell_type": "code",
   "execution_count": 2,
   "id": "59e67515",
   "metadata": {},
   "outputs": [
    {
     "name": "stdout",
     "output_type": "stream",
     "text": [
      "0.4.1.dev76+gf398e82\n"
     ]
    }
   ],
   "source": [
    "print(hcipy.__version__)"
   ]
  },
  {
   "cell_type": "markdown",
   "id": "6db66e4d",
   "metadata": {},
   "source": []
  },
  {
   "cell_type": "markdown",
   "id": "4c41c4ed",
   "metadata": {},
   "source": [
    "# User Inputs"
   ]
  },
  {
   "cell_type": "code",
   "execution_count": 9,
   "id": "ded75c79",
   "metadata": {},
   "outputs": [],
   "source": [
    "## Metadata\n",
    "name = \"Keck_Aper_10ms_exposures_200_frames_pyr_slopes_0.5D_and_evaluate_supersampled\" # filename you want to write, no extension\n",
    "overwrite = True # True if you wish to overwrite files with the same name\n",
    "wfs_detector_name = \"SAPHIRA\"\n",
    "psf_detector_name = \"Marana\"\n",
    "\n",
    "## Properties for EMCCD \n",
    "# EM_gain = None # Set EM Gain for EMCCDs. If running a detector with no EM Gain, set = None\n",
    "# EM_saturation = None # Set behavior when full well depth is reached. None means saturated pixels will be automatically set to full well depth. np.nan means saturated pixels will be set to np.nan\n",
    "\n",
    "## Properties of the Focal Grid\n",
    "q=2 # Number of pixels per resolution element\n",
    "nairy = 20 #The spatial extent of the grid radius in resolution elements (=lambda f/D)\n",
    "\n",
    "## Exposure time and total number of exposures\n",
    "exposure_time = 0.01 # Exposure time in seconds.\n",
    "exposure_total = 200 # Total number of exposures. Total exposure time is exposure_time x exposure_total\n",
    "micro_integration_time = 1./1000 #Set equal to AO Frequency\n",
    "## Setting Up the Atmosphere\n",
    "seeing = 0.6\n",
    "outer_scale = 50. # (meter) \n",
    "velocity = 10. # (m/s) \n",
    "                                    \n",
    "## Setting up the telescope\n",
    "pupil_diameter = 9.96 # (meter)\n",
    "f_number = 17.5 # effective focal ratio. f/1.75 and effective diameter of 10m -> 10 * 1.75 is f_number\n",
    "grid_size = 200 # Number of pixels per dimension\n",
    "filter_name = 'I' # Name of filter for PSF detector. Not applicable for IR detectors\n",
    "telescope_pupil_generator = make_keck_aperture(normalized = False)\n",
    "#telescope_pupil_generator = make_obstructed_circular_aperture(pupil_diameter, 0.1)\n",
    "wavelength_wfs = 1.5E-6 #Wavelength of input of wfs detector\n",
    "\n",
    "## Add a Primary and Companion\n",
    "# Primary parameters\n",
    "mag = 5 # Magnitude in the band of interest\n",
    "stokes_vector= [1.,0.,0.,0.] # I, Q, U, V\n",
    "# Companion parameters\n",
    "contrast = 0.\n",
    "stokes_ps = [1.,0.,0.,0.] # I, Q, U, V\n",
    "angular_separation= 2 # Lambda/D\n",
    "\n",
    "## AO Parameters\n",
    "#leaky integrator parameters\n",
    "gain = 0.4\n",
    "leakage = 0.999\n",
    "#AO loop speed: = Micro-Integration Time \n",
    "dt= micro_integration_time\n",
    "num_actuators = 21 # set the number of actuators\n",
    "# setup Pyramid WFS\n",
    "pixels_pyramid_pupils=40 # number of pixels across the pupil; want 120 %(mod) pixels_pyramid_pupils =0\n",
    "mld=6 # modulation radius in lambda/D \n",
    "modsteps = 12 #keep this as a factor of 4. Significantly increases computation time."
   ]
  },
  {
   "cell_type": "markdown",
   "id": "5a4f4c1b",
   "metadata": {},
   "source": [
    "# Generating the FITS File, Atmosphere, Focal Grid, Detector"
   ]
  },
  {
   "cell_type": "code",
   "execution_count": 4,
   "id": "0f0ce46e",
   "metadata": {},
   "outputs": [
    {
     "name": "stdout",
     "output_type": "stream",
     "text": [
      "Wavefront Sensor Wavelength =  1.5e-06\n",
      "Filter Wavelength =  7.98e-07\n",
      "Generating the pupil grid\n",
      "Generating the telescope pupil\n",
      "Generating the atmosphere\n",
      "Generating the focal grid\n",
      "Generating the propagator\n",
      "Generating wavefront of primary and companion\n"
     ]
    }
   ],
   "source": [
    "## Some math to define additional parameters\n",
    "collecting_area = 76 #meters squared, found on http://spacecraftkits.com/KFacts.html\n",
    "effective_focal_length = pupil_diameter * f_number # (meter)\n",
    "wavelength_psf = filters[filter_name]['lambda_eff'] * 1e-6 # (meter)\n",
    "\n",
    "print(\"Wavefront Sensor Wavelength = \", wavelength_wfs)\n",
    "print(\"Filter Wavelength = \", wavelength_psf)\n",
    "k_wfs=2*np.pi/wavelength_wfs\n",
    "k_psf=2*np.pi/wavelength_psf\n",
    "\n",
    "## Generate name strings\n",
    "psf_fits_name = name + \"_psf.fits\"\n",
    "res_fits_name = name + \"_res.fits\"\n",
    "\n",
    "## Generating the pupil grid\n",
    "print(\"Generating the pupil grid\")\n",
    "pupil_grid = make_pupil_grid(grid_size, diameter=pupil_diameter)\n",
    "\n",
    "## Adjust spiders to represent Keck pupil\n",
    "print(\"Generating the telescope pupil\")\n",
    "telescope_pupil = evaluate_supersampled(make_keck_aperture(normalized = False), pupil_grid, 4)\n",
    "#telescope_pupil = telescope_pupil_generator(pupil_grid)\n",
    "\n",
    "## Generating the atmosphere\n",
    "print(\"Generating the atmosphere\")\n",
    "fried_parameter = seeing_to_fried_parameter(seeing, wavelength_psf)\n",
    "Cn_squared = Cn_squared_from_fried_parameter(fried_parameter, wavelength_psf)\n",
    "tau0 = 0.314 * fried_parameter/velocity\n",
    "layer = InfiniteAtmosphericLayer(pupil_grid, Cn_squared, outer_scale, velocity)\n",
    "\n",
    "##Generating the focal grid\n",
    "print(\"Generating the focal grid\")\n",
    "focal_grid = make_focal_grid(q=q, \n",
    "                             num_airy=nairy,\n",
    "                            spatial_resolution = wavelength_psf / pupil_diameter)\n",
    "\n",
    "##Generating the detectors\n",
    "psf_detector = viper_detector.Marana(focal_grid, filter_name)\n",
    "\n",
    "# Define the Detector\n",
    "# call_detector = \"viper_detector.\" + detector_name + \"(focal_grid, \" + f'\"{filter_name}\"'\n",
    "# if EM_gain == None:\n",
    "#     call_detector += \")\"\n",
    "# else:\n",
    "#     call_detector += \", \" + str(EM_gain)+ \", \" + str(EM_saturation) +\")\"\n",
    "# print(call_detector)\n",
    "# detector = eval(call_detector) \n",
    "\n",
    "## Generating the propagator\n",
    "print(\"Generating the propagator\")\n",
    "# prop = FraunhoferPropagator(pupil_grid, focal_grid, \n",
    "#                             focal_length=effective_focal_length)\n",
    "prop = FraunhoferPropagator(pupil_grid, focal_grid)\n",
    "\n",
    "## Generating wavefront of primary and companion\n",
    "print(\"Generating wavefront of primary and companion\")\n",
    "# pupil_wavefront = Wavefront(telescope_pupil, wavelength,\n",
    "#                             input_stokes_vector=stokes_vector)\n",
    "pupil_wavefront_wfs = Wavefront(telescope_pupil, wavelength_wfs)\n",
    "pupil_wavefront_wfs.total_power = number_of_photons(mag,filter_name,collecting_area,)#In photons/s\n",
    "pupil_wavefront_psf = Wavefront(telescope_pupil, wavelength_psf)\n",
    "pupil_wavefront_psf.total_power = number_of_photons(mag,filter_name,collecting_area,)#In photons/s\n",
    "\n",
    "\n",
    "#reference image and the max for plotting the psf later as well as strehl ratio calculation \n",
    "im_ref= prop.forward(pupil_wavefront_psf)\n",
    "norm= np.max(im_ref.intensity)\n"
   ]
  },
  {
   "cell_type": "markdown",
   "id": "3e38f533",
   "metadata": {},
   "source": [
    "# Setting up the AO"
   ]
  },
  {
   "cell_type": "code",
   "execution_count": 8,
   "id": "e7b89dab",
   "metadata": {},
   "outputs": [
    {
     "name": "stdout",
     "output_type": "stream",
     "text": [
      "Modulating PyWFS\n",
      "Runtime for Modulating PyWFS =  0.9904336677864194\n",
      "Making Command Matrix\n",
      "Runtime for making Command Matrix =  82.63490910921246\n"
     ]
    }
   ],
   "source": [
    "#make the DM\n",
    "actuator_spacing = pupil_diameter / num_actuators\n",
    "influence_functions = make_gaussian_influence_functions(pupil_grid, num_actuators, actuator_spacing) \n",
    "deformable_mirror = DeformableMirror(influence_functions)\n",
    "\n",
    "modradius = mld*wavelength_wfs/pupil_diameter # modulation radius in radians;\n",
    "pwfs_grid = make_pupil_grid(2*pixels_pyramid_pupils,2*pupil_diameter) \n",
    "pwfs = PyramidWavefrontSensorOptics(pupil_grid, pwfs_grid, wavelength_0=wavelength_wfs, q=q, num_airy = nairy)\n",
    "mpwfs = ModulatedPyramidWavefrontSensorOptics(pwfs,modradius,modsteps)\n",
    "wfs_camera = viper_detector.SAPHIRA(pwfs_grid)\n",
    "wfs_detector = wfs_camera\n",
    "\n",
    "#bin our pyramid image\n",
    "pyramid_plot_grid = make_pupil_grid(pixels_pyramid_pupils*2, pupil_diameter)\n",
    "\n",
    "#commands to modulate the PyWFS, get an image out, and calculate a reference slope\n",
    "print(\"Modulating PyWFS\")\n",
    "start = time.perf_counter()\n",
    "for m in range (modsteps) :\n",
    "    print(\"Percent complete = \", round((m+1)/modsteps * 100, 3), end = '\\r')\n",
    "    wfs_camera.integrate(mpwfs(pupil_wavefront_wfs)[m], 1)\n",
    "    #wfs_camera.integrate(mpwfs(wf_planet)[m], 1)\n",
    "pyr_ref = wfs_camera.read_out()\n",
    "pyr_ref=wfs.pyramid_slopes(pyr_ref/pyr_ref.sum(),pixels_pyramid_pupils, pupil_diameter)\n",
    "\n",
    "stop = time.perf_counter()\n",
    "print(\"Runtime for Modulating PyWFS = \", stop - start)\n",
    "print(\"Making Command Matrix\")\n",
    "start = time.perf_counter()\n",
    "#Make command matrix for controller. \n",
    "#This code will have to be rerun everytime you change a parameter about the PyWFS or DM. \n",
    "#Just run this code & do not peak at the function that does the work for you. \n",
    "CM=wfs.make_command_matrix(deformable_mirror, mpwfs, modsteps,wfs_camera,pupil_wavefront_wfs,pixels_pyramid_pupils, pupil_diameter, pyr_ref)\n",
    "stop = time.perf_counter()\n",
    "print(\"Runtime for making Command Matrix = \", stop - start)"
   ]
  },
  {
   "cell_type": "markdown",
   "id": "c5e8be68",
   "metadata": {},
   "source": [
    "# Generating FITS File"
   ]
  },
  {
   "cell_type": "code",
   "execution_count": 10,
   "id": "c5e9cc55",
   "metadata": {},
   "outputs": [
    {
     "name": "stdout",
     "output_type": "stream",
     "text": [
      "Creating the FITS file\n",
      "FITS File Created\n"
     ]
    }
   ],
   "source": [
    "## Create the FITS file\n",
    "print(\"Creating the FITS file\")\n",
    "hdr = fits.Header()\n",
    "hdr['Title'] = name\n",
    "hdr['Author'] = \"Written by Kyle Lam.\"\n",
    "hdr['DetName'] = psf_detector_name + \" # Name of detector\"\n",
    "hdr['WFSName'] = wfs_detector_name + \" # Name of wavefront sensor\"\n",
    "hdr['DetType'] = str(psf_detector.detector_type) + \" # Type of detector\"\n",
    "hdr['WFSType'] = str(wfs_detector.detector_type) + \" # Type of wavefront sensor\"\n",
    "hdr['FPS'] = str(psf_detector.max_fps) + \" # Readout speed of the detector in fps\"\n",
    "hdr['DetSize'] = str(psf_detector.detector_size) + \" # width of shortest side of detector.\"\n",
    "hdr['q'] = str(q) + \" # Number of pixels per resolution element\"\n",
    "hdr['NAiry'] = str(nairy) + \" # The spatial extent of the grid radius in resolution elements\"\n",
    "hdr['AOTime'] = str(micro_integration_time) + \" # Time of integration of wfs for AO system\"\n",
    "hdr['NumExpos'] = str(exposure_total) + \" # Total Number of Exposures\"\n",
    "hdr['Seeing'] = str(seeing) + \" # Seeing\"\n",
    "hdr['OutScale'] = str(outer_scale) + \" # Outer Scale\"\n",
    "hdr['Velocity'] = str(velocity) + \" # Wind Velocity\"\n",
    "hdr['PupDiamt'] = str(pupil_diameter) + \" # Pupil Diameter\"\n",
    "hdr['FNum'] = str(f_number) + \" # F Number\"\n",
    "hdr['GridSize'] = str(grid_size) + \" # Grid Size\"\n",
    "hdr['FiltName'] = str(filter_name) + \" # Filter Name\"\n",
    "hdr['QE'] = str(psf_detector.QE) + \" # Quantum Efficiency\"\n",
    "hdr['DarkCurr'] = str(psf_detector.dark_current_rate) + \" # Dark Current\"\n",
    "hdr['RdNoise'] = str(psf_detector.read_noise) + \" # Read Noise\"\n",
    "hdr['FltField'] = str(psf_detector.flat_field) + \"# Flat Field\"\n",
    "hdr['PhtNoise'] = str(psf_detector.include_photon_noise) + \" # Photon Noise\"\n",
    "hdr['PriMag'] = str(mag) + \" # Magnitude of Primary\"\n",
    "hdr['WvLthPSF'] = str(wavelength_psf) + \" # Wavelength of Point Spread Function\"\n",
    "hdr['WvLthWFS'] = str(wavelength_wfs) + \" # Wavelength of Wavefront Sensor\"\n",
    "hdr['Shutter'] = str(psf_detector.shutter_type) + \" # Shutter Type\"\n",
    "hdr['Gain'] = str(gain) + \" # AO Gain\"\n",
    "hdr['Leakage'] = str(leakage) + \" # AO Leakage\"\n",
    "hdr['NumActu'] = str(num_actuators) + \" # Number of Actuators on one side\"\n",
    "hdr['PixPyra'] = str(pixels_pyramid_pupils) + \" # Number of Pixels across the Pyramid Pupil\"\n",
    "hdr['ModRad'] = str(mld) + \" # modulation radius\"\n",
    "hdr['ModSteps'] = str(modsteps) + \" # Modulation Steps\"\n",
    "empty_primary = fits.PrimaryHDU(header=hdr)\n",
    "hdul_psf = fits.HDUList([empty_primary])\n",
    "hdul_res = fits.HDUList([empty_primary])\n",
    "print(\"FITS File Created\")"
   ]
  },
  {
   "cell_type": "markdown",
   "id": "217e7410",
   "metadata": {},
   "source": [
    "# Generating AO"
   ]
  },
  {
   "cell_type": "code",
   "execution_count": 11,
   "id": "904fa8be",
   "metadata": {},
   "outputs": [
    {
     "name": "stdout",
     "output_type": "stream",
     "text": [
      "Time Elapsed =  539.3381376033649.15 50.0 84.0 92.6\n"
     ]
    }
   ],
   "source": [
    "num_iterations = exposure_total #number of iterations in our simulation\n",
    "sr=[] # so we can find the average strehl ratio\n",
    "\n",
    "# create figure\n",
    "fig=plt.figure(figsize=(28,8))\n",
    "# generate animation object; two optional backends FFMpeg or GifWriter. \n",
    "#anim = FFMpegWriter('AO_simulations_standard.mp4', framerate=3)\n",
    "anim = GifWriter(name + '.gif', framerate=15)\n",
    "AO_res=[]\n",
    "layer.t = 0\n",
    "deformable_mirror.flatten()\n",
    "start = time.perf_counter()\n",
    "rms = []\n",
    "for step in range(exposure_total): \n",
    "    #get a clean wavefront\n",
    "    wf_in_psf=pupil_wavefront_psf.copy()\n",
    "    wf_in_wfs=pupil_wavefront_wfs.copy()\n",
    "    \n",
    "    for i in range(int(exposure_time/micro_integration_time )):\n",
    "        print(\"Percent complete = \", round((step*exposure_time/micro_integration_time +(i+1))/num_iterations*exposure_time/micro_integration_time, 3), end = '\\r')\n",
    "        #evolve the atmospheric turbulence\n",
    "        layer.t += dt\n",
    "        \n",
    "        #pass the wavefront through the turbulence\n",
    "        wf_after_atmos_wfs = layer.forward((wf_in_wfs))\n",
    "        wf_after_atmos_psf = layer.forward((wf_in_psf))\n",
    "\n",
    "        #pass the wavefront through the DM for correction\n",
    "        wf_after_dm_wfs = deformable_mirror.forward(wf_after_atmos_wfs)\n",
    "        wf_after_dm_psf = deformable_mirror.forward(wf_after_atmos_psf)\n",
    "\n",
    "        #send the wavefront containing the residual wavefront error to the PyWFS and get slopes\n",
    "        wfs_wf = mpwfs.forward(wf_after_dm_wfs)\n",
    "        for mmm in range (modsteps) :\n",
    "                  wfs_camera.integrate(wfs_wf[mmm], dt/modsteps)\n",
    "        wfs_image = wfs_camera.read_out()   \n",
    "        slopes = wfs.pyramid_slopes(wfs_image/wfs_image.sum(),pixels_pyramid_pupils, pupil_diameter) -pyr_ref \n",
    "        slopes = slopes.ravel()\n",
    "        dm_before = deformable_mirror.opd\n",
    "        res=layer.phase_for(wavelength_wfs)/k_wfs + deformable_mirror.opd #units:meters; use this to save to avoid phase wrapping that is in the electric field of wf\n",
    "        #res=wf_after_dm.phase/k\n",
    "\n",
    "        #Leaky integrator to calculate new DM commands    \n",
    "        deformable_mirror.actuators =  leakage*deformable_mirror.actuators - gain * CM.dot(slopes)\n",
    "        \n",
    "        good_res = res*telescope_pupil # Filtering out data outside the telescope pupil without changing the dimensions of the array\n",
    "        good_res_mn = (good_res - np.mean(good_res))*telescope_pupil #centering the data around zero\n",
    "        rms.append(float(np.sqrt(np.mean(good_res_mn**2)))) #making a list of RMS\n",
    "        image_hdu = fits.ImageHDU(good_res_mn)        \n",
    "        #image_hdu = fits.ImageHDU(res[np.where(np.array(telescope_pupil))])\n",
    "        #image_hdu = fits.ImageHDU(res*telescope_pupil)\n",
    "        hdul_res.append(image_hdu)\n",
    "        \n",
    "        \n",
    "        # Propagate to focal plane\n",
    "        propagator = prop\n",
    "        wf_focal = propagator.forward(wf_after_dm_psf )\n",
    "        psf_detector.integrate(wf_focal, micro_integration_time)\n",
    "    \n",
    "    image_comb = psf_detector.read_out()\n",
    "    image_hdu = fits.ImageHDU(image_comb.shaped)\n",
    "    hdul_psf.append(image_hdu)\n",
    "\n",
    "    #calculate the strehl ratio to use as a metric for how well the AO system is performing. \n",
    "    strehl_foc=get_strehl_from_focal(wf_focal.intensity/norm,im_ref.intensity/norm)\n",
    "    sr.append(strehl_foc)\n",
    "    #plot the results                \n",
    "    plt.close(fig)\n",
    "    fig=plt.figure(figsize=(30,24))\n",
    "    #plt.suptitle('Time %.2f s / %d s' % (step*exposure_time, exposure_time*exposure_total))\n",
    "    plt.suptitle('Time: ' + str(round(step*exposure_time,4)) +' / ' + str(exposure_time*exposure_total))\n",
    "\n",
    "\n",
    "    plt.subplot(2,3,1)\n",
    "    plt.title(\"Layer.phase for wavelength\")\n",
    "    imshow_field(layer.phase_for(wavelength_wfs)/k_wfs, cmap = 'RdBu',  vmin = -6e-6, vmax = 6e-6)\n",
    "    plt.colorbar()\n",
    "    \n",
    "#         plt.subplot(2,3,1)\n",
    "#         plt.title(\"Wavefront Phase / k before DM\")\n",
    "#         imshow_field(telescope_pupil*wf_after_atmos.phase/k_wfs, cmap = 'RdBu', vmin = -7e-7, vmax = 7e-7)\n",
    "#         plt.colorbar()\n",
    "\n",
    "    plt.subplot(2,3,2)\n",
    "    plt.title(\"Deformable_Mirror.opd before actuators\")\n",
    "    imshow_field(telescope_pupil*dm_before, cmap = 'RdBu', vmin = -6e-6, vmax = 6e-6)\n",
    "    plt.colorbar()\n",
    "\n",
    "    plt.subplot(2,3,3)\n",
    "    plt.title('Residual wavefront error [meters]')\n",
    "    imshow_field(good_res_mn, cmap='RdBu',  vmin = -6e-6, vmax = 6e-6)\n",
    "    plt.colorbar()\n",
    "\n",
    "#     plt.subplot(2,3,3)\n",
    "#     plt.title('Residual wavefront error [meters]')\n",
    "#     imshow_field(res*telescope_pupil - np.mean(good_res), cmap='RdBu' , vmin = -2e-6, vmax = 2e-6)\n",
    "#     plt.colorbar()\n",
    "\n",
    "    \n",
    "#         plt.subplot(2,3,4)\n",
    "#         plt.title('WFS slopes')\n",
    "#         sxy=np.asarray(plot_slopes(slopes,pixels_pyramid_pupils, pupil_diameter)).reshape((2,pixels_pyramid_pupils,pixels_pyramid_pupils))\n",
    "#         plt.imshow(sxy.reshape((2*pixels_pyramid_pupils,pixels_pyramid_pupils)).transpose())\n",
    "#         plt.colorbar()\n",
    "\n",
    "\n",
    "    plt.subplot(2,3,4)\n",
    "    plt.title('RMS Residual Wavefront Error [meters]')\n",
    "    plt.plot(rms)\n",
    "\n",
    "    plt.subplot(2,3,5)\n",
    "    plt.title(\"PSF_from_Detector\")\n",
    "    plt.imshow(image_hdu.data, cmap = 'inferno',  norm= mpl_colors.LogNorm())    \n",
    "    plt.colorbar()\n",
    "\n",
    "    plt.subplot(2,3,6)\n",
    "    plt.title('Inst. PSF; Strehl %.2f'% (np.mean(np.asarray(sr))))\n",
    "    imshow_field(np.log10(wf_focal.intensity/norm), cmap='inferno')\n",
    "    plt.colorbar()\n",
    "    \n",
    "    plt.subplots_adjust(hspace=0.3)\n",
    "    anim.add_frame()\n",
    "#plt.suptitle('Gain = %.2f' % (gain)) # can change this to be the parameter you are varying\n",
    "#plt.savefig('AO_vary_gain%.2f.png' % (gain)) #example to save the last figure to see how the parameter varied your performance\n",
    "\n",
    "plt.close()\n",
    "anim.close()\n",
    "anim\n",
    "stop = time.perf_counter()\n",
    "print(\"Time Elapsed = \", stop-start)\n",
    "\n",
    "# plt.plot(np.array(sr))\n",
    "# plt.show()"
   ]
  },
  {
   "cell_type": "code",
   "execution_count": 12,
   "id": "025148e6",
   "metadata": {},
   "outputs": [
    {
     "name": "stdout",
     "output_type": "stream",
     "text": [
      "File name  Keck_Aper_10ms_exposures_200_frames_pyr_slopes_0.52D_and_evaluate_supersampled_psf.fits  already exists. Preparing to overwrite.\n",
      "File name  Keck_Aper_10ms_exposures_200_frames_pyr_slopes_0.52D_and_evaluate_supersampled_res.fits  already exists. Preparing to overwrite.\n",
      "\n",
      "Writing the PSF FITS file\n",
      "PSF FITS file Keck_Aper_10ms_exposures_200_frames_pyr_slopes_0.52D_and_evaluate_supersampled_psf.fits generated.\n",
      "Writing the res FITS file\n",
      "PSF FITS file Keck_Aper_10ms_exposures_200_frames_pyr_slopes_0.52D_and_evaluate_supersampled_res.fits generated.\n"
     ]
    }
   ],
   "source": [
    "# Checking to see if filenames exists\n",
    "psf_overwrite = True\n",
    "res_overwrite = True\n",
    "if os.path.isfile(psf_fits_name):\n",
    "    if overwrite:\n",
    "        print(\"File name \", psf_fits_name, \" already exists. Preparing to overwrite.\") \n",
    "        os.remove(psf_fits_name)\n",
    "    else:\n",
    "        print(\"Error, file name \",fits_name,\" already exists. Overwrite was not allowed.\")\n",
    "        psf_overwrite = False\n",
    "        \n",
    "if os.path.isfile(res_fits_name):\n",
    "    if overwrite:\n",
    "        print(\"File name \", res_fits_name, \" already exists. Preparing to overwrite.\") \n",
    "        os.remove(res_fits_name)\n",
    "    else:\n",
    "        print(\"Error, file name \",res_fits_name,\" already exists. Overwrite was not allowed.\")\n",
    "        res_overwrite = False\n",
    "        \n",
    "## Write the FITS file\n",
    "print()\n",
    "if psf_overwrite:\n",
    "    print(\"Writing the PSF FITS file\")\n",
    "    hdul_psf.writeto(psf_fits_name)\n",
    "    header_name = name + \"_Header.txt\"\n",
    "    hdul_psf[0].header.totextfile(header_name, endcard = False, overwrite = True)\n",
    "    print(\"PSF FITS file\", psf_fits_name,  \"generated.\")\n",
    "if res_overwrite:\n",
    "    print(\"Writing the res FITS file\")\n",
    "    hdul_res.writeto(res_fits_name)\n",
    "    header_name = name + \"_Header.txt\"\n",
    "    hdul_res[0].header.totextfile(header_name, endcard = False, overwrite = True)\n",
    "    print(\"PSF FITS file\", res_fits_name,  \"generated.\")"
   ]
  },
  {
   "cell_type": "code",
   "execution_count": 13,
   "id": "ec7a4694",
   "metadata": {},
   "outputs": [
    {
     "data": {
      "text/plain": [
       "[<matplotlib.lines.Line2D at 0x7f8a26f6ddc0>]"
      ]
     },
     "execution_count": 13,
     "metadata": {},
     "output_type": "execute_result"
    },
    {
     "data": {
      "image/png": "[encoded data removed]",
      "text/plain": [
       "<Figure size 432x288 with 1 Axes>"
      ]
     },
     "metadata": {
      "needs_background": "light"
     },
     "output_type": "display_data"
    }
   ],
   "source": [
    "plt.plot(rms)"
   ]
  },
  {
   "cell_type": "code",
   "execution_count": null,
   "id": "d2c55196",
   "metadata": {},
   "outputs": [],
   "source": []
  },
  {
   "cell_type": "code",
   "execution_count": null,
   "id": "112a9a8c",
   "metadata": {},
   "outputs": [],
   "source": []
  }
 ],
 "metadata": {
  "kernelspec": {
   "display_name": "Python 3 (ipykernel)",
   "language": "python",
   "name": "python3"
  },
  "language_info": {
   "codemirror_mode": {
    "name": "ipython",
    "version": 3
   },
   "file_extension": ".py",
   "mimetype": "text/x-python",
   "name": "python",
   "nbconvert_exporter": "python",
   "pygments_lexer": "ipython3",
   "version": "3.8.8"
  }
 },
 "nbformat": 4,
 "nbformat_minor": 5
}
